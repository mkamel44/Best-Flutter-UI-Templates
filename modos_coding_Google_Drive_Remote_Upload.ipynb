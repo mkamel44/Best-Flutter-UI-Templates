{
  "nbformat": 4,
  "nbformat_minor": 0,
  "metadata": {
    "colab": {
      "provenance": [],
      "include_colab_link": true
    },
    "kernelspec": {
      "name": "python3",
      "display_name": "Python 3"
    },
    "language_info": {
      "name": "python"
    }
  },
  "cells": [
    {
      "cell_type": "markdown",
      "metadata": {
        "id": "view-in-github",
        "colab_type": "text"
      },
      "source": [
        "<a href=\"https://colab.research.google.com/github/mkamel44/Best-Flutter-UI-Templates/blob/master/modos_coding_Google_Drive_Remote_Upload.ipynb\" target=\"_parent\"><img src=\"https://colab.research.google.com/assets/colab-badge.svg\" alt=\"Open In Colab\"/></a>"
      ]
    },
    {
      "cell_type": "code",
      "metadata": {
        "colab": {
          "base_uri": "https://localhost:8080/"
        },
        "id": "OKPigJw81by2",
        "outputId": "06159824-a2b5-42a5-b6dc-aa71c1b9c8e2"
      },
      "source": [
        "from google.colab import drive\n",
        "drive.mount('/content/drive')"
      ],
      "execution_count": 1,
      "outputs": [
        {
          "output_type": "stream",
          "name": "stdout",
          "text": [
            "Mounted at /content/drive\n"
          ]
        }
      ]
    },
    {
      "cell_type": "code",
      "metadata": {
        "colab": {
          "base_uri": "https://localhost:8080/"
        },
        "id": "tTyC-POm1yLK",
        "outputId": "48a34c6b-e271-4ac1-b4cf-4202066b4629"
      },
      "source": [
        "!wget -P /content/drive/MyDrive/test/ https://progresscourses.mkamel.org/Nutrition_12nd_1term_12023/poultry_1111168796.mp4"
      ],
      "execution_count": 2,
      "outputs": [
        {
          "output_type": "stream",
          "name": "stdout",
          "text": [
            "--2023-04-03 06:15:09--  https://progresscourses.mkamel.org/Nutrition_12nd_1term_12023/poultry_1111168796.mp4\n",
            "Resolving progresscourses.mkamel.org (progresscourses.mkamel.org)... 45.84.204.207, 2a02:4780:9:530:0:231b:c345:2\n",
            "Connecting to progresscourses.mkamel.org (progresscourses.mkamel.org)|45.84.204.207|:443... connected.\n",
            "HTTP request sent, awaiting response... 200 OK\n",
            "Length: 105957310 (101M) [video/mp4]\n",
            "Saving to: ‘/content/drive/MyDrive/test/poultry_1111168796.mp4’\n",
            "\n",
            "poultry_1111168796. 100%[===================>] 101.05M  1.98MB/s    in 51s     \n",
            "\n",
            "2023-04-03 06:16:00 (2.00 MB/s) - ‘/content/drive/MyDrive/test/poultry_1111168796.mp4’ saved [105957310/105957310]\n",
            "\n"
          ]
        }
      ]
    }
  ]
}